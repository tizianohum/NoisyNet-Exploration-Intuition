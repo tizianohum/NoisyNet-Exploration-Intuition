{
 "cells": [
  {
   "cell_type": "code",
   "execution_count": 3,
   "id": "c5f260fa",
   "metadata": {},
   "outputs": [],
   "source": [
    "import matplotlib.pyplot as plt\n",
    "import pandas as pd\n",
    "import os\n"
   ]
  },
  {
   "cell_type": "code",
   "execution_count": null,
   "id": "d57e7d9c",
   "metadata": {},
   "outputs": [],
   "source": [
    "class Auswerter():\n",
    "    def __init__(self, path):\n",
    "        self.path = path\n",
    "        timestap = path.split(\"_\")[-1].split(\".\")[0]\n",
    "\n",
    "    def simpleplot(self):\n",
    "        try:\n",
    "            training_data_path = os.path.join(\"RAW_Data/training_data\", self.path)\n",
    "            df = pd.read_csv(training_data_path)\n",
    "            plt.plot(df[\"steps\"], df[\"reward\"], label=\"Reward\")\n",
    "            plt.xlabel(\"steps\")\n",
    "            plt.ylabel(\"Reward\")\n",
    "            plt.title(\"Reward per Episode\")\n",
    "            plt.legend()\n",
    "            plt.show()\n",
    "        except FileNotFoundError:\n",
    "            print(f\"File {self.path} not found.\")"
   ]
  },
  {
   "cell_type": "code",
   "execution_count": 4,
   "id": "bd51e58b",
   "metadata": {},
   "outputs": [],
   "source": [
    "df = pd.read_csv(\"RAW_Data/training_data/dqn_training_data_MiniGrid_Empty_5x5_v0_noisy_True_seed_0_20250715_181007.csv\")\n"
   ]
  },
  {
   "cell_type": "code",
   "execution_count": 11,
   "id": "c62faebe",
   "metadata": {},
   "outputs": [],
   "source": [
    "timestamp  = \"20250715_181007\"\n",
    "heatmap_path = [i for i in os.listdir(\"RAW_Data/heatmap_data\") if timestamp in i]\n",
    "training_data_path = [i for i in os.listdir(\"RAW_Data/training_data\") if timestamp in i]"
   ]
  },
  {
   "cell_type": "code",
   "execution_count": 12,
   "id": "489be3bb",
   "metadata": {},
   "outputs": [
    {
     "data": {
      "text/plain": [
       "['positions_MiniGrid_Empty_5x5_v0_noisy_True_seed_0_20250715_181007.csv']"
      ]
     },
     "execution_count": 12,
     "metadata": {},
     "output_type": "execute_result"
    }
   ],
   "source": [
    "heatmap_path"
   ]
  },
  {
   "cell_type": "code",
   "execution_count": null,
   "id": "6343e4df",
   "metadata": {},
   "outputs": [],
   "source": [
    "os.mkdir(\"test\")"
   ]
  },
  {
   "cell_type": "code",
   "execution_count": null,
   "id": "fe643f85",
   "metadata": {},
   "outputs": [],
   "source": []
  }
 ],
 "metadata": {
  "kernelspec": {
   "display_name": ".noisynet",
   "language": "python",
   "name": "python3"
  },
  "language_info": {
   "codemirror_mode": {
    "name": "ipython",
    "version": 3
   },
   "file_extension": ".py",
   "mimetype": "text/x-python",
   "name": "python",
   "nbconvert_exporter": "python",
   "pygments_lexer": "ipython3",
   "version": "3.11.7"
  }
 },
 "nbformat": 4,
 "nbformat_minor": 5
}
