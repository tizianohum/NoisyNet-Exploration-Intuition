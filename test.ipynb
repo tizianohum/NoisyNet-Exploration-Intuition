{
 "cells": [
  {
   "cell_type": "code",
   "execution_count": 5,
   "id": "c5f260fa",
   "metadata": {},
   "outputs": [],
   "source": [
    "import matplotlib.pyplot as plt\n",
    "import pandas as pd\n",
    "import os\n"
   ]
  },
  {
   "cell_type": "code",
   "execution_count": null,
   "id": "d57e7d9c",
   "metadata": {},
   "outputs": [],
   "source": [
    "class Auswerter():\n",
    "    def __init__(self, path):\n",
    "        self.path = path\n",
    "        timestap = path.split(\"_\")[-1].split(\".\")[0]\n",
    "\n",
    "    def simpleplot(self):\n",
    "        try:\n",
    "            training_data_path = os.path.join(\"RAW_Data/training_data\", self.path)\n",
    "            df = pd.read_csv(training_data_path)\n",
    "            plt.plot(df[\"steps\"], df[\"reward\"], label=\"Reward\")\n",
    "            plt.xlabel(\"steps\")\n",
    "            plt.ylabel(\"Reward\")\n",
    "            plt.title(\"Reward per Episode\")\n",
    "            plt.legend()\n",
    "            plt.show()\n",
    "        except FileNotFoundError:\n",
    "            print(f\"File {self.path} not found.\")"
   ]
  },
  {
   "cell_type": "code",
   "execution_count": 4,
   "id": "bd51e58b",
   "metadata": {},
   "outputs": [],
   "source": [
    "df = pd.read_csv(\"RAW_Data/training_data/dqn_training_data_MiniGrid_Empty_5x5_v0_noisy_True_seed_0_20250715_181007.csv\")\n"
   ]
  },
  {
   "cell_type": "code",
   "execution_count": 11,
   "id": "c62faebe",
   "metadata": {},
   "outputs": [],
   "source": [
    "timestamp  = \"20250715_181007\"\n",
    "heatmap_path = [i for i in os.listdir(\"RAW_Data/heatmap_data\") if timestamp in i]\n",
    "training_data_path = [i for i in os.listdir(\"RAW_Data/training_data\") if timestamp in i]"
   ]
  },
  {
   "cell_type": "code",
   "execution_count": 12,
   "id": "489be3bb",
   "metadata": {},
   "outputs": [
    {
     "data": {
      "text/plain": [
       "['positions_MiniGrid_Empty_5x5_v0_noisy_True_seed_0_20250715_181007.csv']"
      ]
     },
     "execution_count": 12,
     "metadata": {},
     "output_type": "execute_result"
    }
   ],
   "source": [
    "heatmap_path"
   ]
  },
  {
   "cell_type": "code",
   "execution_count": null,
   "id": "6343e4df",
   "metadata": {},
   "outputs": [],
   "source": [
    "os.mkdir(\"test\")"
   ]
  },
  {
   "cell_type": "code",
   "execution_count": 10,
   "id": "fe643f85",
   "metadata": {},
   "outputs": [],
   "source": [
    "timestamp = \"20250717_091247\""
   ]
  },
  {
   "cell_type": "code",
   "execution_count": 11,
   "id": "b72c1ed4",
   "metadata": {},
   "outputs": [],
   "source": [
    "df = pd.read_csv(os.path.join(\"RAW_Data\", timestamp, \"training_data\", f\"dqn_training_data_MiniGrid_Empty_5x5_v0_noisy_True_seed_0_{timestamp}.csv\"))"
   ]
  },
  {
   "cell_type": "code",
   "execution_count": 12,
   "id": "5729a952",
   "metadata": {},
   "outputs": [
    {
     "data": {
      "text/html": [
       "<div>\n",
       "<style scoped>\n",
       "    .dataframe tbody tr th:only-of-type {\n",
       "        vertical-align: middle;\n",
       "    }\n",
       "\n",
       "    .dataframe tbody tr th {\n",
       "        vertical-align: top;\n",
       "    }\n",
       "\n",
       "    .dataframe thead th {\n",
       "        text-align: right;\n",
       "    }\n",
       "</style>\n",
       "<table border=\"1\" class=\"dataframe\">\n",
       "  <thead>\n",
       "    <tr style=\"text-align: right;\">\n",
       "      <th></th>\n",
       "      <th>steps</th>\n",
       "      <th>rewards</th>\n",
       "    </tr>\n",
       "  </thead>\n",
       "  <tbody>\n",
       "    <tr>\n",
       "      <th>0</th>\n",
       "      <td>1000</td>\n",
       "      <td>0.2552</td>\n",
       "    </tr>\n",
       "    <tr>\n",
       "      <th>1</th>\n",
       "      <td>2000</td>\n",
       "      <td>0.0768</td>\n",
       "    </tr>\n",
       "    <tr>\n",
       "      <th>2</th>\n",
       "      <td>3000</td>\n",
       "      <td>0.1984</td>\n",
       "    </tr>\n",
       "    <tr>\n",
       "      <th>3</th>\n",
       "      <td>4000</td>\n",
       "      <td>0.2506</td>\n",
       "    </tr>\n",
       "    <tr>\n",
       "      <th>4</th>\n",
       "      <td>5000</td>\n",
       "      <td>0.1308</td>\n",
       "    </tr>\n",
       "    <tr>\n",
       "      <th>5</th>\n",
       "      <td>6000</td>\n",
       "      <td>0.1335</td>\n",
       "    </tr>\n",
       "    <tr>\n",
       "      <th>6</th>\n",
       "      <td>7000</td>\n",
       "      <td>0.0000</td>\n",
       "    </tr>\n",
       "    <tr>\n",
       "      <th>7</th>\n",
       "      <td>8000</td>\n",
       "      <td>0.0000</td>\n",
       "    </tr>\n",
       "    <tr>\n",
       "      <th>8</th>\n",
       "      <td>9000</td>\n",
       "      <td>0.0739</td>\n",
       "    </tr>\n",
       "    <tr>\n",
       "      <th>9</th>\n",
       "      <td>10000</td>\n",
       "      <td>0.0136</td>\n",
       "    </tr>\n",
       "  </tbody>\n",
       "</table>\n",
       "</div>"
      ],
      "text/plain": [
       "   steps  rewards\n",
       "0   1000   0.2552\n",
       "1   2000   0.0768\n",
       "2   3000   0.1984\n",
       "3   4000   0.2506\n",
       "4   5000   0.1308\n",
       "5   6000   0.1335\n",
       "6   7000   0.0000\n",
       "7   8000   0.0000\n",
       "8   9000   0.0739\n",
       "9  10000   0.0136"
      ]
     },
     "execution_count": 12,
     "metadata": {},
     "output_type": "execute_result"
    }
   ],
   "source": [
    "df"
   ]
  },
  {
   "cell_type": "code",
   "execution_count": 13,
   "id": "20eb20ac",
   "metadata": {},
   "outputs": [
    {
     "data": {
      "image/png": "[encoded data removed]",
      "text/plain": [
       "<Figure size 640x480 with 1 Axes>"
      ]
     },
     "metadata": {},
     "output_type": "display_data"
    }
   ],
   "source": [
    "plt.plot(df[\"steps\"], df[\"rewards\"], label=\"Reward\")\n",
    "plt.xlabel(\"steps\")\n",
    "plt.ylabel(\"Reward\")\n",
    "plt.title(f\"Reward per Episode{timestamp}\")\n",
    "plt.legend()\n",
    "plt.grid()"
   ]
  },
  {
   "cell_type": "code",
   "execution_count": 1,
   "id": "0bff0cff",
   "metadata": {},
   "outputs": [],
   "source": [
    "import os"
   ]
  },
  {
   "cell_type": "code",
   "execution_count": 6,
   "id": "9c3ffe5c",
   "metadata": {},
   "outputs": [],
   "source": [
    "timestamp = \"20250728_133214\"\n",
    "path = os.path.join(os.getcwd(), \"RAW_Data\", timestamp, \"models\")\n",
    "\n",
    "files = os.listdir(path)\n",
    "if len(files) == 1:\n",
    "    model = files[0]\n",
    "else:\n",
    "    print(f\"Error: Expected 1 file, found {len(files)} files\")\n",
    "    model = None"
   ]
  },
  {
   "cell_type": "code",
   "execution_count": 7,
   "id": "eeeed20d",
   "metadata": {},
   "outputs": [
    {
     "data": {
      "text/plain": [
       "'dqn_trained_model_MiniGrid_Empty_5x5_v0_20250728_133214.pth'"
      ]
     },
     "execution_count": 7,
     "metadata": {},
     "output_type": "execute_result"
    }
   ],
   "source": [
    "model"
   ]
  },
  {
   "cell_type": "code",
   "execution_count": null,
   "id": "c5e5a7f9",
   "metadata": {},
   "outputs": [],
   "source": []
  }
 ],
 "metadata": {
  "kernelspec": {
   "display_name": ".noisynet",
   "language": "python",
   "name": "python3"
  },
  "language_info": {
   "codemirror_mode": {
    "name": "ipython",
    "version": 3
   },
   "file_extension": ".py",
   "mimetype": "text/x-python",
   "name": "python",
   "nbconvert_exporter": "python",
   "pygments_lexer": "ipython3",
   "version": "3.11.7"
  }
 },
 "nbformat": 4,
 "nbformat_minor": 5
}
